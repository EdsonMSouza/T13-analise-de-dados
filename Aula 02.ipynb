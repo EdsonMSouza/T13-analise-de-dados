{
  "nbformat": 4,
  "nbformat_minor": 0,
  "metadata": {
    "colab": {
      "name": "aula_02-quinta.ipynb",
      "provenance": []
    },
    "kernelspec": {
      "name": "python3",
      "display_name": "Python 3"
    }
  },
  "cells": [
    {
      "cell_type": "markdown",
      "metadata": {
        "id": "avUaDn7TvBn4"
      },
      "source": [
        "# INTRODUÇÃO AO PYTHON\r\n",
        "\r\n",
        "Acesso os links abaixo para fixar os conceitos aprendidos na aula.\r\n",
        "\r\n",
        "* Youtube\r\n",
        "  + [Como usar o Google Colab](https://youtu.be/Ai9qn9YII78)\r\n",
        "  + [O que é Memória RAM](https://youtu.be/fFN9tKUJ81E)\r\n",
        "  + [Memória RAM](https://youtu.be/--dDCYEWJVg)\r\n",
        "  + [Variáveis de Memória](https://youtu.be/PVjpBcps100)\r\n",
        "\r\n",
        "* Leitura Recomendada\r\n",
        "  + [Variáveis e Memória](https://www.ic.unicamp.br/~wainer/cursos/2s2011/Cap02-VariaveisMemoria-texto.pdf)\r\n",
        "  + [O que são Variáveis?](https://www.people.com.br/noticias/informatica/o-que-sao-variaveis-e-para-que-elas-servem-na-programacao)"
      ]
    },
    {
      "cell_type": "code",
      "metadata": {
        "colab": {
          "base_uri": "https://localhost:8080/"
        },
        "id": "S8qWcu-cb9__",
        "outputId": "3d52d870-a633-4e69-8dfe-4a933bba8767"
      },
      "source": [
        "print(\"Hello World!!!\")"
      ],
      "execution_count": null,
      "outputs": [
        {
          "output_type": "stream",
          "text": [
            "Hello World!!!\n"
          ],
          "name": "stdout"
        }
      ]
    },
    {
      "cell_type": "code",
      "metadata": {
        "colab": {
          "base_uri": "https://localhost:8080/"
        },
        "id": "3xH3yvRKf4Dj",
        "outputId": "b6990694-afd0-49c5-9dea-3bc3559316f8"
      },
      "source": [
        "print(\"O Edson é (bonitão], #SQN?\")"
      ],
      "execution_count": null,
      "outputs": [
        {
          "output_type": "stream",
          "text": [
            "O Edson é (bonitão], #SQN?\n"
          ],
          "name": "stdout"
        }
      ]
    },
    {
      "cell_type": "code",
      "metadata": {
        "colab": {
          "base_uri": "https://localhost:8080/"
        },
        "id": "ppFnGvrdgMsd",
        "outputId": "41c7663a-02a0-48d7-a313-d640cf052014"
      },
      "source": [
        "print(10 + 10)"
      ],
      "execution_count": null,
      "outputs": [
        {
          "output_type": "stream",
          "text": [
            "20\n"
          ],
          "name": "stdout"
        }
      ]
    },
    {
      "cell_type": "code",
      "metadata": {
        "colab": {
          "base_uri": "https://localhost:8080/"
        },
        "id": "_LZXR_iSge6N",
        "outputId": "ed595f1e-ceac-4277-dba9-dd1d852b7ef1"
      },
      "source": [
        "print(\"A soma entre 10 e 10 é:\", 10+10)"
      ],
      "execution_count": null,
      "outputs": [
        {
          "output_type": "stream",
          "text": [
            "A soma entre 10 e 10 é: 20\n"
          ],
          "name": "stdout"
        }
      ]
    },
    {
      "cell_type": "code",
      "metadata": {
        "colab": {
          "base_uri": "https://localhost:8080/"
        },
        "id": "t599-5Y5guxz",
        "outputId": "f77b88d5-2c95-4d11-f05f-4d48c17982f2"
      },
      "source": [
        "print(\"+\" * 50)"
      ],
      "execution_count": null,
      "outputs": [
        {
          "output_type": "stream",
          "text": [
            "++++++++++++++++++++++++++++++++++++++++++++++++++\n"
          ],
          "name": "stdout"
        }
      ]
    },
    {
      "cell_type": "code",
      "metadata": {
        "colab": {
          "base_uri": "https://localhost:8080/"
        },
        "id": "ZOGpl030g2Ic",
        "outputId": "108e205c-de90-4c1d-d1e7-3fae2c0bbe07"
      },
      "source": [
        "print(\"20\" + \"20\")"
      ],
      "execution_count": null,
      "outputs": [
        {
          "output_type": "stream",
          "text": [
            "2020\n"
          ],
          "name": "stdout"
        }
      ]
    },
    {
      "cell_type": "code",
      "metadata": {
        "colab": {
          "base_uri": "https://localhost:8080/"
        },
        "id": "pgwGOLLDhFVX",
        "outputId": "12867f02-96c9-45d7-806c-a314073983bb"
      },
      "source": [
        "# isso é um comentário\r\n",
        "# quando o computador ler essa linha, ele não fará nada, pois é um comentário\r\n",
        "print(20*3)"
      ],
      "execution_count": null,
      "outputs": [
        {
          "output_type": "stream",
          "text": [
            "60\n"
          ],
          "name": "stdout"
        }
      ]
    },
    {
      "cell_type": "code",
      "metadata": {
        "colab": {
          "base_uri": "https://localhost:8080/"
        },
        "id": "qb-Ikxt-hZnb",
        "outputId": "770afc31-f63a-443c-cdb0-0f86ef65f929"
      },
      "source": [
        "# quando nós \"juntamos coisas\", números, textos e números e textos isso tem o nome de\r\n",
        "# CONCATENAÇÃO (emenda coisas)\r\n",
        "print(\"Edson\", \"Melo\")\r\n",
        "print(\"10 + 20\")"
      ],
      "execution_count": null,
      "outputs": [
        {
          "output_type": "stream",
          "text": [
            "Edson Melo\n",
            "10 + 20\n"
          ],
          "name": "stdout"
        }
      ]
    },
    {
      "cell_type": "code",
      "metadata": {
        "colab": {
          "base_uri": "https://localhost:8080/"
        },
        "id": "QySjbnELh7h_",
        "outputId": "bcd98ac1-e790-459f-df0a-e0b49905eaaf"
      },
      "source": [
        "# Trabalhando com variáveis\r\n",
        "# Vamos criar duas variáveis para receber valores e, então vamos realizar os cálculos\r\n",
        "a = 22 # traduzindo: atribua o valor 10 para a variável \"a\"\r\n",
        "b = 58\r\n",
        "\r\n",
        "# criamos uma variável para receber o valor calculado nas variáveis \"a\" e \"b\"\r\n",
        "soma = a + b\r\n",
        "\r\n",
        "print(soma)"
      ],
      "execution_count": null,
      "outputs": [
        {
          "output_type": "stream",
          "text": [
            "80\n"
          ],
          "name": "stdout"
        }
      ]
    }
  ]
}